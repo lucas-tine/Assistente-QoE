{
 "cells": [
  {
   "cell_type": "code",
   "execution_count": 1,
   "metadata": {},
   "outputs": [],
   "source": [
    "from pergunta_LLM import process_question"
   ]
  },
  {
   "cell_type": "code",
   "execution_count": 2,
   "metadata": {},
   "outputs": [
    {
     "name": "stdout",
     "output_type": "stream",
     "text": [
      "Pergunta: Qual cliente tem a pior qualidade na aplicação de vídeo?\n",
      "Resposta: O cliente com a pior qualidade na aplicação de vídeo é \"ba\", com uma média de QoE de 4.05.\n",
      "\n",
      "Pergunta: Qual servidor oferece a experiência mais consistente?\n",
      "Resposta: O servidor que oferece a experiência de QoE mais consistente é o servidor \"pi\", com a menor variância de 0.523.\n",
      "\n",
      "Pergunta: Qual seria o melhor servidor para o cliente ba melhorar sua experiência?\n",
      "Resposta: Para o cliente \"ba\", o melhor servidor para melhorar sua experiência seria o servidor \"ce\", que apresenta a maior média de QoE com valor de 6.24.\n",
      "\n",
      "Pergunta: Se a latência do cliente rj aumentar em 0%, como isso afetará sua QoE?\n",
      "Resposta: Se a latência do cliente RJ aumentar em 0%, isso não afetará sua QoE. A qualidade da experiência (QoE) permanecerá a mesma, com um valor de 2581.52, sem impacto percentual.\n",
      "\n",
      "Pergunta: Se a latência do cliente rj diminuir em 20%, como isso afetará sua QoE?\n",
      "Resposta: Se a latência do cliente do Rio de Janeiro (rj) diminuir em 20%, a QoE desse cliente aumentaria de aproximadamente 2581.52 para 2587.47. Isso representa um impacto positivo de cerca de 0.23%. Portanto, uma redução na latência resultaria em uma ligeira melhoria na qualidade da experiência de visualização do cliente.\n",
      "\n",
      "Pergunta: De quanto deve ser o aumento da latência do cliente rj para que isso represente um impacto positivo de 0.9% no QoE\n",
      "Resposta: Após realizar cálculos de impacto da latência no QoE do cliente \"rj\", verifiquei os seguintes resultados:\n",
      "\n",
      "- **Aumento de 0.5% na latência**: Impacto de -0.0046%\n",
      "- **Aumento de 0.85% na latência**: Impacto de -0.0077%\n",
      "- **Aumento de 0.9% na latência**: Impacto de -0.0082%\n",
      "- **Aumento de 0.95% na latência**: Impacto de -0.0087%\n",
      "- **Aumento de 1.0% na latência**: Impacto de -0.0091%\n",
      "- **Aumento de 1.05% na latência**: Impacto de -0.0096%\n",
      "- **Aumento de 1.1% na latência**: Impacto de -0.0100%\n",
      "\n",
      "Com base nessas informações, não encontrei um aumento da latência que resultasse em um impacto positivo no QoE, pois qualquer aumento testedado resultou em uma diminuição na QoE. Portanto, um aumento da latência no cliente \"rj\" levará sempre a uma redução na experiência de QoE.\n"
     ]
    }
   ],
   "source": [
    "# Exemplo de uso\n",
    "if __name__ == \"__main__\":\n",
    "    # Exemplo 1: Pior QoE para clientes\n",
    "    question1 = \"Qual cliente tem a pior qualidade na aplicação de vídeo?\"\n",
    "    answer1 = process_question(question1)\n",
    "    print(\"Pergunta:\", question1)\n",
    "    print(\"Resposta:\", answer1)\n",
    "\n",
    "    # Exemplo 2: Servidor com a QoE mais consistente\n",
    "    question2 = \"Qual servidor oferece a experiência mais consistente?\"\n",
    "    answer2 = process_question(question2)\n",
    "    print(\"\\nPergunta:\", question2)\n",
    "    print(\"Resposta:\", answer2)\n",
    "\n",
    "    # Exemplo 3: Melhor estratégia de troca de servidor\n",
    "    question3 = \"Qual seria o melhor servidor para o cliente ba melhorar sua experiência?\"\n",
    "    answer3 = process_question(question3)\n",
    "    print(\"\\nPergunta:\", question3)\n",
    "    print(\"Resposta:\", answer3)\n",
    "\n",
    "    # Exemplo 4: Impacto de aumento na latência\n",
    "    question4 = \"Se a latência do cliente rj aumentar em 0%, como isso afetará sua QoE?\"\n",
    "    answer4 = process_question(question4)\n",
    "    print(\"\\nPergunta:\", question4)\n",
    "    print(\"Resposta:\", answer4)\n",
    "\n",
    "    # Exemplo 4: Impacto de aumento na latência\n",
    "    question4 = \"Se a latência do cliente rj diminuir em 20%, como isso afetará sua QoE?\"\n",
    "    answer4 = process_question(question4)\n",
    "    print(\"\\nPergunta:\", question4)\n",
    "    print(\"Resposta:\", answer4)\n",
    "\n",
    "    # Exemplo 5: Impacto de aumento na latência 2\n",
    "    question5 = \"De quanto deve ser o aumento da latência do cliente rj para que isso represente um impacto positivo de 0.9% no QoE\"\n",
    "\n",
    "    answer5 = process_question(question5)\n",
    "    print(\"\\nPergunta:\", question5)\n",
    "    print(\"Resposta:\", answer5)"
   ]
  }
 ],
 "metadata": {
  "kernelspec": {
   "display_name": "venv",
   "language": "python",
   "name": "python3"
  },
  "language_info": {
   "codemirror_mode": {
    "name": "ipython",
    "version": 3
   },
   "file_extension": ".py",
   "mimetype": "text/x-python",
   "name": "python",
   "nbconvert_exporter": "python",
   "pygments_lexer": "ipython3",
   "version": "3.10.12"
  },
  "orig_nbformat": 4
 },
 "nbformat": 4,
 "nbformat_minor": 2
}
